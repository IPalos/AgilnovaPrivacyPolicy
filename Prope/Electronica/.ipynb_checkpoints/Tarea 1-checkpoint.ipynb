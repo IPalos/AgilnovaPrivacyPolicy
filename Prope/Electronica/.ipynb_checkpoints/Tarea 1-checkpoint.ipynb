{
 "cells": [
  {
   "cell_type": "markdown",
   "id": "c0080490",
   "metadata": {},
   "source": [
    "Ignacio Palos Reynoso\n",
    "\n",
    "Propedéutico : Tarea 1"
   ]
  },
  {
   "cell_type": "markdown",
   "id": "b6540c80",
   "metadata": {},
   "source": [
    "# Ejercicios P.26\n",
    "\n",
    "- Convertir de base 2 a base 10"
   ]
  },
  {
   "cell_type": "markdown",
   "id": "41349893",
   "metadata": {},
   "source": [
    "$(10001110)_2$ = 128 + 8 + 4 + 2 = **142** \n",
    "\n",
    "$(01011100)_2$ = 64 + 16 + 8 + 4 = **92**"
   ]
  },
  {
   "cell_type": "markdown",
   "id": "180e0b1c",
   "metadata": {},
   "source": [
    "- Convertir de base 10 a base 2\n",
    "\n",
    "$(254)_{10}$ = 128 + 64 + 32 + 16 + 8 + 4 + 2 = $(1111110)_2$\n",
    "\n",
    "$(341)_{10}$ = 256 + 64 + 16 + 4 + 1 = $(101010101)_2$\n"
   ]
  },
  {
   "cell_type": "markdown",
   "id": "0b8b5da5",
   "metadata": {},
   "source": [
    "- Convertir de binario a hexadecimal\n",
    "\n",
    "$(1001 \\; 0111 \\; 1001 \\; 1101)_2 = (9000)_{16} + (700)_{16} + (90)_{16} + (D)_{16} = (979D)_{16}$\n",
    "\n",
    "$(1110 \\; 0110 \\; 1010 \\; 0001)_2 = (E6A1)_{16}$"
   ]
  },
  {
   "cell_type": "markdown",
   "id": "c07f9e8f",
   "metadata": {},
   "source": [
    "- Convertir de hexadecimal a binario\n",
    "\n",
    "$0xAF35 = (1010 \\; 1111 \\; 0011 \\; 0101)_2$\n",
    "\n",
    "$(48D2)_{16} = (0100 \\; 1000 \\; 1101\\; 0010)_2$"
   ]
  },
  {
   "cell_type": "markdown",
   "id": "8136affe",
   "metadata": {},
   "source": [
    "- Realice 2 corrimientos a la izquierda de $(1001 \\; 0111 \\; 1001 \\; 1101)_2$ y una rotación a la derecha de $(1110 \\; 0110 \\; 1010 \\; 0001)_2$ y realice la operación lógica AND\n",
    "\n",
    "A = $(0101 \\; 1110 \\; 0111 \\; 0100)_2$\n",
    "\n",
    "B = $(1111 \\; 0011 \\; 0101 \\; 0000)_2$\n",
    "\n",
    "**A AND B** = $(0101 \\; 0010 \\; 0101 \\; 0000)_2$"
   ]
  },
  {
   "cell_type": "markdown",
   "id": "6ccb6719",
   "metadata": {},
   "source": [
    "# Decodificador BCD\n",
    "\n",
    "$a = BD + CD + \\overline{BD} + A$\n",
    "\n",
    "$b = \\overline{CD} + \\overline{B} + CD + A$\n",
    "\n",
    "$c= \\overline{C} + D + B $\n",
    "\n",
    "$d= \\overline{BD} + \\overline{B}C + \\overline{AC}BD + C\\overline{D} + A\\overline{D}$\n",
    "\n",
    "$e= \\overline{BD} + C\\overline{D} + A\\overline{D}$\n",
    "\n",
    "$f= \\overline{CD} + B\\overline{C}+ B\\overline{D}$\n",
    "\n",
    "$g= C\\overline{D} + \\overline{B}C +B\\overline{D} + B\\overline{C}$"
   ]
  },
  {
   "cell_type": "code",
   "execution_count": null,
   "id": "dde58936",
   "metadata": {},
   "outputs": [],
   "source": []
  }
 ],
 "metadata": {
  "kernelspec": {
   "display_name": "Python 3",
   "language": "python",
   "name": "python3"
  },
  "language_info": {
   "codemirror_mode": {
    "name": "ipython",
    "version": 3
   },
   "file_extension": ".py",
   "mimetype": "text/x-python",
   "name": "python",
   "nbconvert_exporter": "python",
   "pygments_lexer": "ipython3",
   "version": "3.7.10"
  }
 },
 "nbformat": 4,
 "nbformat_minor": 5
}
