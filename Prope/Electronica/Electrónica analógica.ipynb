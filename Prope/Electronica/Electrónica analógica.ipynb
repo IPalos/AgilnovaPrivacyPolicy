{
 "cells": [
  {
   "cell_type": "code",
   "execution_count": 1,
   "id": "85f14a9a",
   "metadata": {},
   "outputs": [
    {
     "name": "stdout",
     "output_type": "stream",
     "text": [
      "0.011 0.007857142857142856\n"
     ]
    }
   ],
   "source": [
    "v1= 3.3\n",
    "r1=100\n",
    "r2=200\n",
    "r3=100\n",
    "r4=180\n",
    "\n",
    "i1=v1/(r1+r2)\n",
    "i2=(i1*r2)/(r3+r4)\n",
    "print (i1,i2)"
   ]
  },
  {
   "cell_type": "code",
   "execution_count": null,
   "id": "0340850d",
   "metadata": {},
   "outputs": [],
   "source": []
  }
 ],
 "metadata": {
  "kernelspec": {
   "display_name": "Python 3",
   "language": "python",
   "name": "python3"
  },
  "language_info": {
   "codemirror_mode": {
    "name": "ipython",
    "version": 3
   },
   "file_extension": ".py",
   "mimetype": "text/x-python",
   "name": "python",
   "nbconvert_exporter": "python",
   "pygments_lexer": "ipython3",
   "version": "3.7.10"
  }
 },
 "nbformat": 4,
 "nbformat_minor": 5
}
