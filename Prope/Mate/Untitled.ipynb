{
 "cells": [
  {
   "cell_type": "code",
   "execution_count": 2,
   "id": "3591b524",
   "metadata": {},
   "outputs": [],
   "source": [
    "def optimizedpow(a,b):\n",
    "    if b==0:\n",
    "        return 1\n",
    "    if b%2==0:\n",
    "        return optimizedpow(a,b/2)*optimizedpow(a,b/2)\n",
    "    else:\n",
    "        return optimizedpow(a,b//2)*optimizedpow(a,b//2)*a"
   ]
  },
  {
   "cell_type": "code",
   "execution_count": 3,
   "id": "092dbe96",
   "metadata": {},
   "outputs": [
    {
     "data": {
      "text/plain": [
       "256"
      ]
     },
     "execution_count": 3,
     "metadata": {},
     "output_type": "execute_result"
    }
   ],
   "source": [
    "optimizedpow(2,8)"
   ]
  },
  {
   "cell_type": "code",
   "execution_count": 5,
   "id": "7c955ee9",
   "metadata": {},
   "outputs": [
    {
     "data": {
      "text/plain": [
       "[2, 4, 5, 6, 8, 9, 12, 14]"
      ]
     },
     "execution_count": 5,
     "metadata": {},
     "output_type": "execute_result"
    }
   ],
   "source": [
    "#find 2 integers such as sum(a,b)=15\n",
    "def sumab\n",
    "a=[4,8,12,6,9,14,2,5]\n",
    "a.sort()\n"
   ]
  },
  {
   "cell_type": "code",
   "execution_count": null,
   "id": "587889a2",
   "metadata": {},
   "outputs": [],
   "source": []
  }
 ],
 "metadata": {
  "kernelspec": {
   "display_name": "Python 3",
   "language": "python",
   "name": "python3"
  },
  "language_info": {
   "codemirror_mode": {
    "name": "ipython",
    "version": 3
   },
   "file_extension": ".py",
   "mimetype": "text/x-python",
   "name": "python",
   "nbconvert_exporter": "python",
   "pygments_lexer": "ipython3",
   "version": "3.7.10"
  }
 },
 "nbformat": 4,
 "nbformat_minor": 5
}
