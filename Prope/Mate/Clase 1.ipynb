{
 "cells": [
  {
   "cell_type": "markdown",
   "id": "46f7e675",
   "metadata": {},
   "source": [
    "Profesor: Humberto Híjar\n",
    "\n",
    "correo: humberto.hijar@lasalle.mx\n",
    "\n",
    "tel: 5540167522\n",
    "\n",
    "Edificio 1F, 3er piso"
   ]
  },
  {
   "cell_type": "code",
   "execution_count": 2,
   "id": "99210aac",
   "metadata": {},
   "outputs": [],
   "source": [
    "import sympy as sp\n",
    "import matplotlib.pyplot as plt\n",
    "import numpy as np\n",
    "from IPython.display import HTML"
   ]
  },
  {
   "cell_type": "markdown",
   "id": "a6ac007c",
   "metadata": {},
   "source": [
    "## Clase 1\n",
    "### Ecuaciones Diferenciales"
   ]
  },
  {
   "cell_type": "markdown",
   "id": "ae407630",
   "metadata": {},
   "source": [
    "**Definición: Ecuación Diferencial**\n",
    "\n",
    "Aquella donde la incógnita es una función y en ella aparecen derivadas de la misma función\n",
    "\n",
    "Ej:\n",
    "\\begin{equation}\n",
    "x'-8x=0\\\\\n",
    "-\\\\\n",
    "\\left(\\frac{dx}{dt}\\right) +x = 0\n",
    "\\end{equation}\n",
    "\n",
    "con x = x(t)"
   ]
  },
  {
   "cell_type": "markdown",
   "id": "567ab341",
   "metadata": {},
   "source": [
    "**Definición: Órden de la ED**\n",
    "Corresponde con el de la derivada más alta de la ecuación\n",
    "Ej:\n",
    "\n",
    "\\begin{equation}\n",
    "\\left(\\frac{dx}{dt}\\right)^3 = x^2(t) - - - \\text{ED de 1er orden} \\\\\n",
    "\\frac{\\partial^2T}{\\partial x^2} = -c \\frac{\\partial T}{\\partial t} ; T(x,t) - - -\\text{ED de 2do orden}\n",
    "\\end{equation}"
   ]
  },
  {
   "cell_type": "markdown",
   "id": "c55e1330",
   "metadata": {},
   "source": [
    "**ED TRIVIALES**\n",
    "\n",
    "función incógnita: x(t)\n",
    "\n",
    "t: variable independiente"
   ]
  },
  {
   "cell_type": "markdown",
   "id": "f46c4919",
   "metadata": {},
   "source": [
    "**Ejemplo**\n",
    "\n",
    "\\begin{align}\n",
    "\\frac{dx}{dt} &= cos(\\omega t) \\quad; \\quad x_0=1\\\\[10pt]\n",
    "dx &= cos(\\omega t) dt \\\\[10pt]\n",
    "\\int dx &= \\int cos(\\omega t) dt \\\\[10pt]\n",
    "x &= -\\frac{1}{\\omega} sin(\\omega t) + C \\\\[10pt]\n",
    "x(0) &= c = 1  \\\\[10pt]\n",
    "\\therefore x(t) &= 1- \\frac{1}{\\omega} sin(\\omega t)\n",
    "\\end{align}"
   ]
  },
  {
   "cell_type": "markdown",
   "id": "7bad48a9",
   "metadata": {},
   "source": [
    "**Ejemplo 2**\n",
    "\n",
    "\\begin{align}\n",
    "\\frac{dx}{dt} &= f(x)g(t) \\\\[10pt]\n",
    "\\frac{dx}{f(x)} &= g(x)dt \\\\[10pt]\n",
    "\\frac{dx}{f(x)} &= g(x)dt \\\\[10pt]\n",
    "\\end{align}"
   ]
  },
  {
   "cell_type": "markdown",
   "id": "150dc39e",
   "metadata": {},
   "source": [
    "**Ejemplo 3** Velocidad de un vehiculo en un fluido\n",
    "\n",
    "\\begin{align}\n",
    "F &= -Cv^2 \\quad ; \\quad F = ma = m\\frac{dv}{dt} \\\\[10pt]\n",
    "\\therefore \\frac{dv}{dt} &= -\\frac{C}{m} v^2 \\\\[10pt]\n",
    "-\\frac{dv}{v^2} &= \\alpha dt \\quad ; \\quad  \\alpha = \\frac{C}{m} \\\\[10pt]\n",
    "-\\int\\frac{dv}{v^2} &= \\alpha \\int dt \\\\[10pt]\n",
    "\\frac{1}{v} &= \\alpha t \\\\[10pt]\n",
    "\\frac{1}{v}-\\frac{1}{v_0} &= \\alpha t \\\\[10pt] \n",
    "\\therefore v &= \\frac{v_0}{1+\\alpha t v_0}\n",
    "\\end{align}"
   ]
  },
  {
   "cell_type": "code",
   "execution_count": 3,
   "id": "65aa6d80",
   "metadata": {
    "scrolled": false
   },
   "outputs": [
    {
     "data": {
      "image/png": "[encoded data removed]",
      "text/plain": [
       "<Figure size 640x480 with 1 Axes>"
      ]
     },
     "metadata": {
      "needs_background": "light"
     },
     "output_type": "display_data"
    },
    {
     "data": {
      "text/html": [
       "<script>\n",
       "code_show=true; \n",
       "function code_toggle() {\n",
       " if (code_show){\n",
       " $('div.input').hide();\n",
       " } else {\n",
       " $('div.input').show();\n",
       " }\n",
       " code_show = !code_show\n",
       "} \n",
       "$( document ).ready(code_toggle);\n",
       "</script>\n",
       "<a href=\"javascript:code_toggle()\">Ver Código</a>."
      ],
      "text/plain": [
       "<IPython.core.display.HTML object>"
      ]
     },
     "execution_count": 3,
     "metadata": {},
     "output_type": "execute_result"
    }
   ],
   "source": [
    "t = np.arange(0.0, 10.0, 0.01)\n",
    "v0=1\n",
    "a=1\n",
    "v = v0 / (1+a*t*v0)\n",
    "\n",
    "fig, ax = plt.subplots(figsize=(8, 6), dpi=80)\n",
    "ax.plot(t, v)\n",
    "\n",
    "ax.set(xlabel='tiempo(s)', ylabel='velocidad( m/s)',\n",
    "       title='velocidad de un vehiculo en un fluido')\n",
    "ax.grid()\n",
    "\n",
    "plt.show()\n",
    "\n",
    "HTML('''<script>\n",
    "code_show=true; \n",
    "function code_toggle() {\n",
    " if (code_show){\n",
    " $('div.input').hide();\n",
    " } else {\n",
    " $('div.input').show();\n",
    " }\n",
    " code_show = !code_show\n",
    "} \n",
    "$( document ).ready(code_toggle);\n",
    "</script>\n",
    "<a href=\"javascript:code_toggle()\">Ver Código</a>.''')"
   ]
  },
  {
   "cell_type": "markdown",
   "id": "74f88d9a",
   "metadata": {},
   "source": [
    "** Ejemplo 4: Desintegración Radioactiva**\n",
    "\n",
    "\\begin{align}\n",
    "\\frac{dx}{dt} &= \\alpha x \\\\[10pt]\n",
    "\\text{Proponemos una solución de la forma}\\\\[1pt]\n",
    "f(x) &= e^{-\\kappa t}\n",
    "\\end{align}"
   ]
  },
  {
   "cell_type": "code",
   "execution_count": null,
   "id": "2c09c106",
   "metadata": {},
   "outputs": [],
   "source": []
  }
 ],
 "metadata": {
  "celltoolbar": "Tags",
  "kernelspec": {
   "display_name": "Python 3",
   "language": "python",
   "name": "python3"
  },
  "language_info": {
   "codemirror_mode": {
    "name": "ipython",
    "version": 3
   },
   "file_extension": ".py",
   "mimetype": "text/x-python",
   "name": "python",
   "nbconvert_exporter": "python",
   "pygments_lexer": "ipython3",
   "version": "3.7.10"
  }
 },
 "nbformat": 4,
 "nbformat_minor": 5
}
