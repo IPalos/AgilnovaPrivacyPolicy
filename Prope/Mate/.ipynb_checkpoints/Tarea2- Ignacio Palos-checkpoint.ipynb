{
 "cells": [
  {
   "cell_type": "code",
   "execution_count": 2,
   "metadata": {},
   "outputs": [],
   "source": [
    "from sympy import sin, cos, symbols, solve, ln, exp, fourier_series, pi\n",
    "from sympy.abc import x,t\n",
    "import math\n",
    "from pprint import pprint\n",
    "import matplotlib.pyplot as plt\n",
    "import numpy as np"
   ]
  },
  {
   "cell_type": "markdown",
   "metadata": {},
   "source": [
    "# Tarea 2 - Ignacio Palos Reynoso\n",
    "\n",
    "## 1. Encuentre la serie de Fourier para la función $f(t)$ definida por $f(t) = t^2$ en el intervalo $(−\\pi, \\pi), f(t + 2\\pi) = f(t)$. \n",
    "## Grafique la forma de la función original y las aproximaciones obtenidas a partir de la serie de Fourier con los 10, 50 y 200 primeros términos. Para ello puede utilizar el leguaje de programación o  herramienta de cálculo de su preferencia."
   ]
  },
  {
   "cell_type": "code",
   "execution_count": 3,
   "metadata": {},
   "outputs": [
    {
     "data": {
      "text/latex": [
       "$\\displaystyle - 4 \\cos{\\left(t \\right)} + \\cos{\\left(2 t \\right)} + \\frac{\\pi^{2}}{3} + \\ldots$"
      ],
      "text/plain": [
       "FourierSeries(t**2, (t, -pi, pi), (pi**2/3, SeqFormula(Piecewise((2*pi**2*sin(_n*pi)/_n + 4*pi*cos(_n*pi)/_n**2 - 4*sin(_n*pi)/_n**3, (_n > -oo) & (_n < oo) & Ne(_n, 0)), (2*pi**3/3, True))*cos(_n*t)/pi, (_n, 1, oo)), SeqFormula(0, (_k, 1, oo))))"
      ]
     },
     "execution_count": 3,
     "metadata": {},
     "output_type": "execute_result"
    }
   ],
   "source": [
    "s= fourier_series(t**2,(t,-pi,pi))\n",
    "s"
   ]
  },
  {
   "cell_type": "code",
   "execution_count": null,
   "metadata": {},
   "outputs": [],
   "source": []
  }
 ],
 "metadata": {
  "interpreter": {
   "hash": "32e507a6e77a2b8e6b3c8f0e535da2a3fedf5c3361a9833054c8f870f74cc60c"
  },
  "kernelspec": {
   "display_name": "Python 3",
   "language": "python",
   "name": "python3"
  },
  "language_info": {
   "codemirror_mode": {
    "name": "ipython",
    "version": 3
   },
   "file_extension": ".py",
   "mimetype": "text/x-python",
   "name": "python",
   "nbconvert_exporter": "python",
   "pygments_lexer": "ipython3",
   "version": "3.7.10"
  }
 },
 "nbformat": 4,
 "nbformat_minor": 2
}
