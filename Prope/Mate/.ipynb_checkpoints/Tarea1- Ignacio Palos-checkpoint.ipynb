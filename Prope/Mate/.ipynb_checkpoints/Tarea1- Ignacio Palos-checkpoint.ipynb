{
 "cells": [
  {
   "cell_type": "code",
   "execution_count": 1,
   "id": "68a944ee",
   "metadata": {},
   "outputs": [],
   "source": [
    "from sympy import Function, dsolve, Eq, Derivative, sin, cos, symbols, solve, ln, exp\n",
    "from sympy.abc import t,x,y,U, z, K, r\n",
    "import math\n",
    "from pprint import pprint\n",
    "import matplotlib.pyplot as plt\n",
    "import numpy as np"
   ]
  },
  {
   "cell_type": "markdown",
   "id": "3d2b9be7",
   "metadata": {},
   "source": [
    "# Tarea 1 - Ignacio Palos Reynoso\n",
    " \n",
    "## 1. Clasifique las siguientes ecuaciones como ordinarias o parciales, indique su orden, y especifique si son lineales o no lineales. En cada caso, indentifique las variables dependientes e independientes.\n",
    "\n",
    "## 2. Realice una pequeña investigación y explique qué fenómenos es posible describir con la solución de cada una de las ecuaciones del ejercicio anterior."
   ]
  },
  {
   "cell_type": "markdown",
   "id": "b6012f06",
   "metadata": {},
   "source": [
    "### Ecuación de Bessel\n",
    "\\begin{equation}\n",
    "x^2\\frac{d^2y}{dx^2}+x\\frac{dy}{dx}+(x^2-\\nu^2)y=0 \\quad ; \\quad \\nu=\\text{constante}\n",
    "\\end{equation}\n",
    "\n",
    "#### Solución 1:\n",
    "Esta es una ecuación **ordinaria**, de **segundo** órden **lineal** y **dependiente**.\n",
    "\n",
    "#### Solución 2:\n",
    "La ecuación de Bessel parece cuando se encuentran soluciones a la ecuación de Laplace y de Helmhotz en coordenadas cilindricas o esféricas, y su solución son las funciones de Bessel.\n",
    "\n",
    "Esta ecuación funciona muy bien para describir fenómenos con simetría cilíndrica o esférica, cómo en cables, tubos, barras cilíndricas, membranas circulares, etc, tanto en medios mecánicos como en electromagnéticos y hasta en sistemas cuánticos."
   ]
  },
  {
   "cell_type": "markdown",
   "id": "5cce049d",
   "metadata": {},
   "source": [
    "### Ecuación de Van der Pool\n",
    "\\begin{equation}\n",
    "m\\frac{d^2x}{dt^2}+kx=a\\frac{dx}{dt}-b\\left(\\frac{dx}{dt}\\right)^3 \\quad ; \\quad m,k,a,b=\\text{constantes}\n",
    "\\end{equation}\n",
    "\n",
    "#### Solución 1:\n",
    "Esta es una ecuación **ordinaria**, de **segundo** órden **no lineal** y **dependiente**."
   ]
  },
  {
   "cell_type": "markdown",
   "id": "003c8cee",
   "metadata": {},
   "source": [
    "### Ecuación de onda\n",
    "\\begin{equation}\n",
    "\\frac{\\partial^2 E}{\\partial t^2} = c^2 \\frac{\\partial^2 E}{\\partial x^2} \\quad ; \\quad c=\\text{constante}\n",
    "\\end{equation}\n",
    "\n",
    "#### Solución 1:\n",
    "Esta es una ecuación **parcial**, de **segundo** órden **lineal** e **independiente**.\n",
    "\n",
    "#### Solución 2:\n",
    "Esta versión de la ecuación de onda es para ondas unidimensionales, y sirve para describir el comportamiento oscilatorio de un ente (por ejemplo, una partícula sobre una cuerda ondulante, o el valor del campo eléctrico en un punto durante el tiempo ) y su velocidad de propagación. "
   ]
  },
  {
   "cell_type": "markdown",
   "id": "951792de",
   "metadata": {},
   "source": [
    "### Ley de enfriamiento de Newton\n",
    "\\begin{equation}\n",
    "\\frac{dT}{dt}= k\\left[T-A(t) \\right] \\quad ; \\quad k=\\text{constante}, A(t) = f(t)\n",
    "\\end{equation}\n",
    "\n",
    "#### Solución 1:\n",
    "Esta es una ecuación **ordinaria**, de **primer** órden **lineal** e **independiente**.\n",
    "\n",
    "#### Solución 2:\n",
    "Esta ecuación principalmente se utiliza para describir durante el tiempo,  el enfriamiento de un material en un medio,(usualmente con capacidad calorifica infinita) a cierta temperatura menor al material."
   ]
  },
  {
   "cell_type": "markdown",
   "id": "39aec177",
   "metadata": {},
   "source": [
    "## 3.  En 1988 la sábana santa fue estidiada por tres grupos de investigación independientes de Arizona, Oxford y Zurich. Estos encontraron que las fibras de la sabana tenían alrededor del 92% del 14C contenido en los organismos vivos. Calcule la antigüedad de la sábana si para el 14C la vida media es de 5, 600 años.\n",
    "\n",
    "#### Solución:"
   ]
  },
  {
   "cell_type": "code",
   "execution_count": 2,
   "id": "fd9bcf50",
   "metadata": {},
   "outputs": [
    {
     "name": "stdout",
     "output_type": "stream",
     "text": [
      "La antiguedad de la sábana santa es de 673.6477088191859 años.\n"
     ]
    }
   ],
   "source": [
    "tau=5600\n",
    "p=0.92\n",
    "sol = -math.log2(p)*tau\n",
    "print(f'La antiguedad de la sábana santa es de {sol} años.')"
   ]
  },
  {
   "cell_type": "markdown",
   "id": "8608c84d",
   "metadata": {},
   "source": [
    "## 4. Encuentre la solución general de las ecuaciones siguientes y en cada caso encuentre una solución particular que pase por el origen.\n"
   ]
  },
  {
   "cell_type": "markdown",
   "id": "7f5d9e7d",
   "metadata": {},
   "source": [
    "### Ejercicio 1"
   ]
  },
  {
   "cell_type": "code",
   "execution_count": 3,
   "id": "4f7d0696",
   "metadata": {},
   "outputs": [
    {
     "data": {
      "text/latex": [
       "$\\displaystyle \\frac{d}{d t} \\theta{\\left(t \\right)} = \\sin{\\left(t \\right)} + \\cos{\\left(t \\right)}$"
      ],
      "text/plain": [
       "Eq(Derivative(theta(t), t), sin(t) + cos(t))"
      ]
     },
     "execution_count": 3,
     "metadata": {},
     "output_type": "execute_result"
    }
   ],
   "source": [
    "th = Function('theta')\n",
    "eq = Eq(Derivative(th(t)), sin(t)+cos(t))\n",
    "eq"
   ]
  },
  {
   "cell_type": "code",
   "execution_count": 4,
   "id": "b77ebd40",
   "metadata": {},
   "outputs": [
    {
     "data": {
      "text/latex": [
       "$\\displaystyle \\theta{\\left(t \\right)} = C_{1} - \\sqrt{2} \\cos{\\left(t + \\frac{\\pi}{4} \\right)}$"
      ],
      "text/plain": [
       "Eq(theta(t), C1 - sqrt(2)*cos(t + pi/4))"
      ]
     },
     "execution_count": 4,
     "metadata": {},
     "output_type": "execute_result"
    }
   ],
   "source": [
    "f=dsolve(eq)\n",
    "f"
   ]
  },
  {
   "cell_type": "code",
   "execution_count": 5,
   "id": "7d4852c1",
   "metadata": {},
   "outputs": [
    {
     "data": {
      "text/latex": [
       "$\\displaystyle \\theta{\\left(0 \\right)} = C_{1} - 1$"
      ],
      "text/plain": [
       "Eq(theta(0), C1 - 1)"
      ]
     },
     "execution_count": 5,
     "metadata": {},
     "output_type": "execute_result"
    }
   ],
   "source": [
    "f.subs(t,0)"
   ]
  },
  {
   "cell_type": "markdown",
   "id": "86de4463",
   "metadata": {},
   "source": [
    "Para que $\\theta(0) = 0$,  $C_1= 1 $"
   ]
  },
  {
   "cell_type": "markdown",
   "id": "f3a62f0e",
   "metadata": {},
   "source": [
    "### Ejercicio 2"
   ]
  },
  {
   "cell_type": "code",
   "execution_count": 6,
   "id": "ffde891f",
   "metadata": {},
   "outputs": [
    {
     "data": {
      "text/latex": [
       "$\\displaystyle \\frac{d}{d x} y{\\left(x \\right)} = \\frac{1}{x^{2} - 1}$"
      ],
      "text/plain": [
       "Eq(Derivative(y(x), x), 1/(x**2 - 1))"
      ]
     },
     "execution_count": 6,
     "metadata": {},
     "output_type": "execute_result"
    }
   ],
   "source": [
    "y = Function('y')\n",
    "eq = Eq(Derivative(y(x)),1/(x**2-1) )\n",
    "eq"
   ]
  },
  {
   "cell_type": "code",
   "execution_count": 7,
   "id": "96a3fb1d",
   "metadata": {},
   "outputs": [
    {
     "data": {
      "text/latex": [
       "$\\displaystyle y{\\left(x \\right)} = C_{1} + \\frac{\\log{\\left(x - 1 \\right)}}{2} - \\frac{\\log{\\left(x + 1 \\right)}}{2}$"
      ],
      "text/plain": [
       "Eq(y(x), C1 + log(x - 1)/2 - log(x + 1)/2)"
      ]
     },
     "execution_count": 7,
     "metadata": {},
     "output_type": "execute_result"
    }
   ],
   "source": [
    "f=dsolve(eq)\n",
    "f"
   ]
  },
  {
   "cell_type": "code",
   "execution_count": 8,
   "id": "52ccefa1",
   "metadata": {},
   "outputs": [
    {
     "data": {
      "text/latex": [
       "$\\displaystyle y{\\left(0 \\right)} = C_{1} + \\frac{i \\pi}{2}$"
      ],
      "text/plain": [
       "Eq(y(0), C1 + I*pi/2)"
      ]
     },
     "execution_count": 8,
     "metadata": {},
     "output_type": "execute_result"
    }
   ],
   "source": [
    "f.subs(x,0)"
   ]
  },
  {
   "cell_type": "markdown",
   "id": "35d7de72",
   "metadata": {},
   "source": [
    "Para que $y(0) = 0$,  $C_1= -\\frac{i\\pi}{2} $"
   ]
  },
  {
   "cell_type": "markdown",
   "id": "86e944e9",
   "metadata": {},
   "source": [
    "### Ejercicio 3"
   ]
  },
  {
   "cell_type": "code",
   "execution_count": 9,
   "id": "3360c3d5",
   "metadata": {},
   "outputs": [
    {
     "data": {
      "text/latex": [
       "$\\displaystyle \\frac{d}{d t} U{\\left(t \\right)} = 4 t \\log{\\left(t \\right)}$"
      ],
      "text/plain": [
       "Eq(Derivative(U(t), t), 4*t*log(t))"
      ]
     },
     "execution_count": 9,
     "metadata": {},
     "output_type": "execute_result"
    }
   ],
   "source": [
    "U = Function('U')\n",
    "eq = Eq(Derivative(U(t)), 4*t*ln(t))\n",
    "eq"
   ]
  },
  {
   "cell_type": "code",
   "execution_count": 10,
   "id": "94007f19",
   "metadata": {},
   "outputs": [
    {
     "data": {
      "text/latex": [
       "$\\displaystyle U{\\left(t \\right)} = C_{1} + 2 t^{2} \\log{\\left(t \\right)} - t^{2}$"
      ],
      "text/plain": [
       "Eq(U(t), C1 + 2*t**2*log(t) - t**2)"
      ]
     },
     "execution_count": 10,
     "metadata": {},
     "output_type": "execute_result"
    }
   ],
   "source": [
    "f=dsolve(eq)\n",
    "f"
   ]
  },
  {
   "cell_type": "markdown",
   "id": "f9965748",
   "metadata": {},
   "source": [
    "### Esta función no está definida en t=0, ya que ln(0) es indeterminado"
   ]
  },
  {
   "cell_type": "code",
   "execution_count": 11,
   "id": "0aafe3ae",
   "metadata": {},
   "outputs": [
    {
     "data": {
      "text/latex": [
       "$\\displaystyle \\frac{d}{d x} z{\\left(x \\right)} = x e^{- 2 x}$"
      ],
      "text/plain": [
       "Eq(Derivative(z(x), x), x*exp(-2*x))"
      ]
     },
     "execution_count": 11,
     "metadata": {},
     "output_type": "execute_result"
    }
   ],
   "source": [
    "z=Function('z')\n",
    "eq = Eq(Derivative(z(x)),x*exp(-2*x))\n",
    "eq"
   ]
  },
  {
   "cell_type": "code",
   "execution_count": 12,
   "id": "bca9fc2b",
   "metadata": {},
   "outputs": [
    {
     "data": {
      "text/latex": [
       "$\\displaystyle z{\\left(x \\right)} = C_{1} + \\frac{\\left(- 2 x - 1\\right) e^{- 2 x}}{4}$"
      ],
      "text/plain": [
       "Eq(z(x), C1 + (-2*x - 1)*exp(-2*x)/4)"
      ]
     },
     "execution_count": 12,
     "metadata": {},
     "output_type": "execute_result"
    }
   ],
   "source": [
    "f=dsolve(eq)\n",
    "f"
   ]
  },
  {
   "cell_type": "code",
   "execution_count": 13,
   "id": "50b5ee35",
   "metadata": {},
   "outputs": [
    {
     "data": {
      "text/latex": [
       "$\\displaystyle z{\\left(0 \\right)} = C_{1} - \\frac{1}{4}$"
      ],
      "text/plain": [
       "Eq(z(0), C1 - 1/4)"
      ]
     },
     "execution_count": 13,
     "metadata": {},
     "output_type": "execute_result"
    }
   ],
   "source": [
    "f.subs(x,0)"
   ]
  },
  {
   "cell_type": "markdown",
   "id": "0b322b3b",
   "metadata": {},
   "source": [
    "Para que $z(0) = 0$,  $C_1= \\frac{1}{4} $"
   ]
  },
  {
   "cell_type": "markdown",
   "id": "3470a5b3",
   "metadata": {},
   "source": [
    "## 5. En el modelo logístico estudiado en clase, el tamaño de una poblaciónal tiempo t, x (t), puede escribirse como\n",
    "\n",
    "\\begin{align}\n",
    "x(t) = \\frac{K}{1+\\frac{K-x_0}{x_0}e^{-rt}}\n",
    "\\end{align}\n",
    "\n",
    "## donde $x_0$ es el tamaño de la población al tiempo inicial, K es la capacidad de carga y r es una constante. \n",
    "\n",
    "## Utilice los datos de los dos primeros renglones de la tabla que muestra el crecimiento de la población del Reino Unido para estimar los valores de las constantes r y K.\n",
    "\n",
    "|Año | Población |\n",
    "|---|---|\n",
    "|1801 | 16.345646 |\n",
    "|1851 | 27.533755 | \n",
    "|1901 | 41.609091 | \n",
    "|2001 | 63.000000 |\n",
    "\n",
    "## Según el modelo logístico, ¿cuál debería ser el tamaño de la población en los años de 1901 y 2001? Utilice sus valores estimados de las constantes r y K para responder esta pregunta. Discuta cómo se compararían las predicciones del modelo logístico con las correspondientes a un modelo de Malthus para el mismo caso.\n"
   ]
  },
  {
   "cell_type": "code",
   "execution_count": 14,
   "id": "11f00f73",
   "metadata": {},
   "outputs": [
    {
     "name": "stdout",
     "output_type": "stream",
     "text": [
      "======================\n",
      "El valor de K es 50009\n",
      "El valor de r es 0.010433499288615042\n",
      "======================\n"
     ]
    }
   ],
   "source": [
    "x0=16.345646\n",
    "x50=27.533755\n",
    "l=[]\n",
    "l1=[]\n",
    "\n",
    "#Calcular K y r de manera iterativa\n",
    "for k in range(50000,90000):\n",
    "    m=k\n",
    "    r= (-1/50)*(math.log(x0)-math.log(m-x0)+math.log(m/x50-1))\n",
    "    l1.append(r)\n",
    "    e=math.exp(-50*r)\n",
    "    p=k/(1+(e*(k-x0)/x0))\n",
    "    l.append(p)\n",
    "\n",
    "K=50009\n",
    "R=l1[9]\n",
    "print ('======================')\n",
    "print (f'El valor de K es {K}')\n",
    "print (f'El valor de r es {R}')\n",
    "print ('======================')"
   ]
  },
  {
   "cell_type": "code",
   "execution_count": 15,
   "id": "726568d5",
   "metadata": {},
   "outputs": [
    {
     "name": "stdout",
     "output_type": "stream",
     "text": [
      "{'1801': 16.345646,\n",
      " '1851': 27.533755,\n",
      " '1901': 46.3726887542035,\n",
      " '1951': 78.08131608367776,\n",
      " '2001': 131.4145788537958}\n"
     ]
    }
   ],
   "source": [
    "poblacion = {}\n",
    "for i in range(5):\n",
    "    poblacion[str(1801+(50*i))]=(K/(1+(math.exp(-50*i*R)*((K-x0)/x0))))\n",
    "pprint(poblacion)\n",
    "    "
   ]
  },
  {
   "cell_type": "code",
   "execution_count": 16,
   "id": "3e4dbc8b",
   "metadata": {},
   "outputs": [
    {
     "data": {
      "image/png": "[encoded data removed]",
      "text/plain": [
       "<Figure size 640x480 with 1 Axes>"
      ]
     },
     "metadata": {
      "needs_background": "light"
     },
     "output_type": "display_data"
    }
   ],
   "source": [
    "t = np.arange(0, 200, 1)\n",
    "x = K/(1+ ( ( (K-x0)/x0 )*np.exp(-R*t) ) )\n",
    "P0=x0\n",
    "m =P0*np.exp(R*t)\n",
    "fig, ax = plt.subplots(figsize=(8, 6), dpi=80)\n",
    "ax.plot(t+1800, x ,linewidth=5, linestyle='-' )\n",
    "ax.plot(t+1800, m ,':y', linewidth=5)\n",
    "ax.scatter([1801,1851,1901,2001],[16.345646,27.533755,41.609091,63],c='r',s=120)\n",
    "\n",
    "ax.set(xlabel='Fecha', ylabel='Población',\n",
    "       title='Población del Reino unido')\n",
    "ax.legend([\"Función Logística\",\"Modelo de Malthus\",\"Datos Empíricos\"])\n",
    "ax.grid()\n",
    "\n",
    "plt.show()"
   ]
  },
  {
   "cell_type": "code",
   "execution_count": 17,
   "id": "2500eb04",
   "metadata": {},
   "outputs": [
    {
     "data": {
      "image/png": "[encoded data removed]",
      "text/plain": [
       "<Figure size 640x480 with 1 Axes>"
      ]
     },
     "metadata": {
      "needs_background": "light"
     },
     "output_type": "display_data"
    }
   ],
   "source": [
    "t = np.arange(0, 800, 1)\n",
    "x = K/(1+ ( ( (K-x0)/x0 )*np.exp(-R*t) ) )\n",
    "P0=x0\n",
    "m =P0*np.exp(R*t)\n",
    "fig, ax = plt.subplots(figsize=(8, 6), dpi=80)\n",
    "ax.plot(t+1800, x ,linewidth=5, linestyle=':' )\n",
    "ax.plot(t+1800, m ,linewidth=2, linestyle='--')\n",
    "ax.scatter([1801,1851,1901,2001],[16.345646,27.533755,41.609091,63],c='r')\n",
    "\n",
    "ax.set(xlabel='Fecha', ylabel='Población',\n",
    "       title='Población del Reino unido')\n",
    "ax.legend([\"Función Logística\",\"Modelo de Malthus\",\"Datos Empíricos\"])\n",
    "ax.grid()\n",
    "\n",
    "plt.show()"
   ]
  },
  {
   "cell_type": "markdown",
   "id": "bd10f04f",
   "metadata": {},
   "source": [
    "Cómo podemos observar en las gráficas anteriores, aunque el modelo de Malthus y el logístico sean distintos para más de 500 años, en el intervalo entre 1800-2000 casi no se nota la diferencia. También podemos observar que hay una difencia significativa entre los datos empíricos y la predicción hecha con cualquiera de los dos modelos. Esto se puede mejorar utilizando más puntos para calcular las constantes K y r, y no sólamente los 2 primeros datos."
   ]
  }
 ],
 "metadata": {
  "kernelspec": {
   "display_name": "Python 3",
   "language": "python",
   "name": "python3"
  },
  "language_info": {
   "codemirror_mode": {
    "name": "ipython",
    "version": 3
   },
   "file_extension": ".py",
   "mimetype": "text/x-python",
   "name": "python",
   "nbconvert_exporter": "python",
   "pygments_lexer": "ipython3",
   "version": "3.7.10"
  }
 },
 "nbformat": 4,
 "nbformat_minor": 5
}
