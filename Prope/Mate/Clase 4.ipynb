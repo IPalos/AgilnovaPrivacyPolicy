{
 "cells": [
  {
   "cell_type": "code",
   "execution_count": 1,
   "id": "dfe12a74",
   "metadata": {},
   "outputs": [
    {
     "data": {
      "text/html": [
       "<script>\n",
       "code_show=true; \n",
       "function code_toggle() {\n",
       " if (code_show){\n",
       " $('div.input').hide();\n",
       " } else {\n",
       " $('div.input').show();\n",
       " }\n",
       " code_show = !code_show\n",
       "} \n",
       "$( document ).ready(code_toggle);\n",
       "</script>\n",
       "<a href=\"javascript:code_toggle()\">Ver Código</a>."
      ],
      "text/plain": [
       "<IPython.core.display.HTML object>"
      ]
     },
     "execution_count": 1,
     "metadata": {},
     "output_type": "execute_result"
    }
   ],
   "source": [
    "import sympy as sp\n",
    "import matplotlib.pyplot as plt\n",
    "import numpy as np\n",
    "from IPython.display import HTML\n",
    "\n",
    "HTML('''<script>\n",
    "code_show=true; \n",
    "function code_toggle() {\n",
    " if (code_show){\n",
    " $('div.input').hide();\n",
    " } else {\n",
    " $('div.input').show();\n",
    " }\n",
    " code_show = !code_show\n",
    "} \n",
    "$( document ).ready(code_toggle);\n",
    "</script>\n",
    "<a href=\"javascript:code_toggle()\">Ver Código</a>.''')"
   ]
  },
  {
   "cell_type": "markdown",
   "id": "ad984828",
   "metadata": {},
   "source": [
    "## Clase 4\n",
    "### Ecuaciones Diferenciales (Pt3). Series de Fourier"
   ]
  },
  {
   "cell_type": "markdown",
   "id": "d8743616",
   "metadata": {},
   "source": [
    "**Ejemplo: ecuación de enfriamiento**\n",
    "\\begin{align}\n",
    "\\frac{\\partial T}{\\partial t} = \\alpha \\frac{\\partial^2 T}{\\partial x^2}\n",
    "\\end{align}\n",
    "\n",
    "Para resolver esto se puede utilizar el método de separación de variables\n",
    "\n",
    "\\begin{align}\n",
    "T(x,t) = X(x) T(t) \\\\[10pt]\n",
    "\\therefore \\frac{1}{\\alpha T}\\frac{\\partial T}{\\partial t} = \\frac{1}{X} \\frac{\\partial ^2 X}{\\partial x^2}\n",
    "\\end{align}\n",
    "\n",
    "Donde sus soluciones son de la forma :\n",
    "\\begin{align}\n",
    "\\large{T(x,t) = \\sum_{n=0}^\\infty b_n e^{-\\alpha c_n t}sin\\left(\\frac{n \\pi}{L} x\\right)}\n",
    "\\end{align}"
   ]
  },
  {
   "cell_type": "markdown",
   "id": "8af2fcd9",
   "metadata": {},
   "source": [
    "## Funciones periódicas\n",
    "\n",
    "Una función es periódica si satisface:\n",
    "\\begin{align}\n",
    "f(t) = f(t+T)\n",
    "\\end{align}"
   ]
  },
  {
   "cell_type": "markdown",
   "id": "dce881f3",
   "metadata": {},
   "source": [
    "## Evaluación de los coeficientes de Fourier\n",
    "\n",
    "Al utilizar las relaciones de ortogonalidad se pueden evaluar los coeficientes de Fourier como sigue. Si se desea el coeficiente $a_0$, simplemetne se integra la Ec 8 sobre el periodo\n",
    "\n",
    "\\begin{align}\n",
    "f(t) &= \\frac{1}{2} a_0 + \\sum_{n=1}^{\\infty} a_n cos(n \\omega_0 t) + \\sum_{n=1}^{\\infty} b_n sin(n \\omega_0 t) \\quad ; \\quad \\omega_0 = \\frac{2\\pi}{T} \\\\[10pt]\n",
    "\\int_{\\frac{-T}{2}}^{\\frac{T}{2}} f(t) dt &= \\int_{\\frac{-T}{2}}^{\\frac{T}{2}} \\left( \\frac{1}{2} a_0 +  \\sum_{n=1}^\\infty a_n cos(n \\omega_0 t) + \\sum_{n=1}^\\infty b_n sin(n \\omega_0 t) \\right) dt \\\\[10pt]\n",
    "\\int_{\\frac{-T}{2}}^{\\frac{T}{2}} f(t) dt &= \\frac{1}{2} a_0 T \\\\[10pt]\n",
    "\\therefore a_0 &= \\frac{2}{T}\\int_{\\frac{-T}{2}}^{\\frac{T}{2}} f(t) dt \\\\[10pt]\n",
    "a_n &= \\frac{2}{T} \\int_\\frac{-T}{2}^\\frac{T}{2} f(t) cos(n \\omega_0 t) dt\n",
    "\\end{align}"
   ]
  },
  {
   "cell_type": "code",
   "execution_count": null,
   "id": "46e40712",
   "metadata": {},
   "outputs": [],
   "source": []
  }
 ],
 "metadata": {
  "kernelspec": {
   "display_name": "Python 3",
   "language": "python",
   "name": "python3"
  },
  "language_info": {
   "codemirror_mode": {
    "name": "ipython",
    "version": 3
   },
   "file_extension": ".py",
   "mimetype": "text/x-python",
   "name": "python",
   "nbconvert_exporter": "python",
   "pygments_lexer": "ipython3",
   "version": "3.7.10"
  }
 },
 "nbformat": 4,
 "nbformat_minor": 5
}
