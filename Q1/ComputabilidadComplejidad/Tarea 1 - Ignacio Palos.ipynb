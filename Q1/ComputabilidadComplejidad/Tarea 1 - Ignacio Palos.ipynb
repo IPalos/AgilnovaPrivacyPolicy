{
 "cells": [
  {
   "cell_type": "markdown",
   "id": "0ecfa786",
   "metadata": {},
   "source": [
    "$\\Sigma_1$= {a,b,c,d}\n",
    "\n",
    "$\\Sigma_2$ = {c,d,e}\n",
    "\n",
    "$\\Sigma_3$ = {0,1}\n",
    "\n",
    "$\\alpha = aab$\n",
    "\n",
    "$\\beta = cdee$\n",
    "\n",
    "$\\gamma = eddcc$\n",
    "\n",
    "$\\delta = aacddd$"
   ]
  },
  {
   "cell_type": "markdown",
   "id": "c1052823",
   "metadata": {},
   "source": [
    "## Ejercicio 1: Determinar la longitude de las cadenas\n",
    "\n",
    "$|\\alpha| = 3$\n",
    "\n",
    "$|\\beta| = 4$\n",
    "\n",
    "$|\\gamma| = 5$\n",
    "\n",
    "$|\\delta| = 6$"
   ]
  },
  {
   "cell_type": "markdown",
   "id": "de4265a7",
   "metadata": {},
   "source": [
    "## Ejercicio 2: REalizar las siguientes operaciones\n",
    "  \n",
    "$\\alpha^2 = aabaab$\n",
    "\n",
    "$\\alpha \\cdot \\delta = aabaacddd$\n",
    "\n",
    "$\\beta^{-1} = eedc$\n",
    "\n",
    "$(\\delta \\cdot \\alpha)^{-1} = baadddcaaa$"
   ]
  },
  {
   "cell_type": "markdown",
   "id": "5e48f4fd",
   "metadata": {},
   "source": [
    "## Ejercicio 4: Determinar los prefijos y sufijos de la cadena $\\delta$ y aquiellas subcadenas que no sean prefijos ni sufijos\n",
    "\n",
    "prefijos = {a, aa, aac, aacd, aacdd, aacddd, $\\lambda$ } \n",
    "\n",
    "sufijos = {d,dd,ddd, cddd, acddd, aacddd, $\\lambda$}\n",
    "\n",
    "subcadenas = {a,ac,acd,acdd, c, cd, cdd, dd}\n",
    "\n"
   ]
  },
  {
   "cell_type": "markdown",
   "id": "fcb70dd0",
   "metadata": {},
   "source": [
    "## Ejercicio 5: Defina por extensión, mostrando al menos 10 cadenas en orden creciente de longitud, los siguientes conjuntos:\n",
    "\n",
    "a) {c, d, cc, cd, dc, dd, ccc, ccd, cdc, dcc}\n",
    "\n",
    "b) {$\\lambda$, a, b, c, d, e, aa, ab, ac, ad}"
   ]
  }
 ],
 "metadata": {
  "kernelspec": {
   "display_name": "Python 3",
   "language": "python",
   "name": "python3"
  },
  "language_info": {
   "codemirror_mode": {
    "name": "ipython",
    "version": 3
   },
   "file_extension": ".py",
   "mimetype": "text/x-python",
   "name": "python",
   "nbconvert_exporter": "python",
   "pygments_lexer": "ipython3",
   "version": "3.7.10"
  }
 },
 "nbformat": 4,
 "nbformat_minor": 5
}
